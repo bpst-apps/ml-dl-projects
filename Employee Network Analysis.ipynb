{
 "cells": [
  {
   "cell_type": "markdown",
   "id": "b49bb29f",
   "metadata": {},
   "source": [
    "# Improving Company's Collaboration\n",
    "An analysis of a company's six months of information exchange between employees and departments. The communications were between six departments (Sales, Operations, IT, Admin, Marketing and Operations) and a total of _664_ employee's in all the departments. The analysis involved creating a network visualization of the messages sent by each employee from a department to another employee in the same or different department. This was to observe the collaborations between employees/departments and also find out areas to improve collaboration within the department or with another department.\n",
    "\n",
    "Extensive analysis was performed to determine the most active department when sending and receiving messages, in which the **_Sales_** department was the most active in both scenarios with message count of **_1549_** and **_1227_** when sending and receiving messages for the six months period, respectively, while the **_Marketing_** department was the least active on both scenarios with message count of **_16_** and **_140_** when sending and receiving messages, respectively, for the period under study.\n",
    "\n",
    "The results also showed that the employee with id **_598_**, aside being among the top five most influential employee (including id's _128, 605 and 586_) also has the most connections. Whilst the **Sales** department is also the most influential department, more collaborative measures should be implemented by the HR to improve collaboration in the **IT**, **Marketing** and also the **Engineering** departments.\n",
    "\n",
    "The visualization of the messages sent and received per department within the six months period under study showed a huge decline as the month progressed as shown in the trend plot. More messages were shared between departments in the 6th month than in other months, while the 11th month had the least messages.\n",
    "\n",
    "Below is a description of the dataset used for this study.\n",
    "#### Messages has information on the sender, receiver, and time.\n",
    "- \"sender\" - represents the employee id of the employee sending the message.\n",
    "- \"receiver\" - represents the employee id of the employee receiving the message.\n",
    "- \"timestamp\" - the date of the message.\n",
    "- \"message_length\" - the length in words of the message.\n",
    "\n",
    "#### Employees has information on each employee;\n",
    "- \"id\" - represents the employee id of the employee.\n",
    "- \"department\" - is the department within the company. \n",
    "- \"location\" - is the country where the employee lives.\n",
    "- \"age\" - is the age of the employee."
   ]
  },
  {
   "cell_type": "code",
   "execution_count": 1,
   "id": "7263877a",
   "metadata": {},
   "outputs": [],
   "source": [
    "# Import modules\n",
    "import pandas as pd\n",
    "import numpy as np\n",
    "import matplotlib.pyplot as plt\n",
    "import seaborn as sb\n",
    "import networkx as nx\n",
    "import warnings\n",
    "\n",
    "%matplotlib inline\n",
    "sb.set_theme(style = 'whitegrid')\n",
    "warnings.filterwarnings('ignore')"
   ]
  },
  {
   "cell_type": "code",
   "execution_count": 2,
   "id": "3f17871b",
   "metadata": {},
   "outputs": [],
   "source": [
    "# Loading datasets\n",
    "messages = pd.read_csv('data/messages.csv', parse_dates = ['timestamp'])\n",
    "employees = pd.read_csv('data/employees.csv')"
   ]
  },
  {
   "cell_type": "code",
   "execution_count": 3,
   "id": "998f5cb7",
   "metadata": {},
   "outputs": [],
   "source": [
    "# Copying data\n",
    "messages_sent = messages.copy()\n",
    "employees_data = employees.copy()"
   ]
  },
  {
   "cell_type": "code",
   "execution_count": 4,
   "id": "2bffd331",
   "metadata": {},
   "outputs": [
    {
     "name": "stdout",
     "output_type": "stream",
     "text": [
      "Message data info:\n",
      "sender            0\n",
      "receiver          0\n",
      "timestamp         0\n",
      "message_length    0\n",
      "dtype: int64\n",
      "\n",
      "Employee data info:\n",
      "id            0\n",
      "department    0\n",
      "location      0\n",
      "age           0\n",
      "dtype: int64\n"
     ]
    }
   ],
   "source": [
    "# Checking for missing values\n",
    "print('Message data info:')\n",
    "print(messages_sent.isnull().sum())\n",
    "print('\\nEmployee data info:')\n",
    "print(employees_data.isnull().sum())"
   ]
  },
  {
   "cell_type": "markdown",
   "id": "e5aa4fad",
   "metadata": {},
   "source": [
    "The `messages_sent` and `employees_data` have no missing values as observed from the results obtained above. The columns also have appropriate data types assigned to them.\n",
    "\n",
    "One issue arises, though trivial but important, sender and receiver in the `messages_sent` data both indicate the sender and receiver of the message(s) respectively, but are actually the id of both, thus the columns will be renamed to `sender_id` and `receiver_id` respectively. This is to properly communicate what the feature (column) actually contains."
   ]
  },
  {
   "cell_type": "code",
   "execution_count": 5,
   "id": "8c793f32",
   "metadata": {},
   "outputs": [
    {
     "data": {
      "text/html": [
       "<div>\n",
       "<style scoped>\n",
       "    .dataframe tbody tr th:only-of-type {\n",
       "        vertical-align: middle;\n",
       "    }\n",
       "\n",
       "    .dataframe tbody tr th {\n",
       "        vertical-align: top;\n",
       "    }\n",
       "\n",
       "    .dataframe thead th {\n",
       "        text-align: right;\n",
       "    }\n",
       "</style>\n",
       "<table border=\"1\" class=\"dataframe\">\n",
       "  <thead>\n",
       "    <tr style=\"text-align: right;\">\n",
       "      <th></th>\n",
       "      <th>sender_id</th>\n",
       "      <th>receiver_id</th>\n",
       "      <th>timestamp</th>\n",
       "      <th>message_length</th>\n",
       "    </tr>\n",
       "  </thead>\n",
       "  <tbody>\n",
       "    <tr>\n",
       "      <th>0</th>\n",
       "      <td>79</td>\n",
       "      <td>48</td>\n",
       "      <td>2021-06-02 05:41:34</td>\n",
       "      <td>88</td>\n",
       "    </tr>\n",
       "    <tr>\n",
       "      <th>1</th>\n",
       "      <td>79</td>\n",
       "      <td>63</td>\n",
       "      <td>2021-06-02 05:42:15</td>\n",
       "      <td>72</td>\n",
       "    </tr>\n",
       "  </tbody>\n",
       "</table>\n",
       "</div>"
      ],
      "text/plain": [
       "   sender_id  receiver_id           timestamp  message_length\n",
       "0         79           48 2021-06-02 05:41:34              88\n",
       "1         79           63 2021-06-02 05:42:15              72"
      ]
     },
     "execution_count": 5,
     "metadata": {},
     "output_type": "execute_result"
    }
   ],
   "source": [
    "# Renaming columns\n",
    "messages_sent.rename(columns = {'sender':'sender_id', 'receiver':'receiver_id'}, inplace = True)\n",
    "messages_sent.head(2)"
   ]
  },
  {
   "cell_type": "markdown",
   "id": "279ad43d",
   "metadata": {},
   "source": [
    "#### Checking for duplicates"
   ]
  },
  {
   "cell_type": "code",
   "execution_count": 6,
   "id": "c6f15179",
   "metadata": {},
   "outputs": [
    {
     "data": {
      "text/plain": [
       "3"
      ]
     },
     "execution_count": 6,
     "metadata": {},
     "output_type": "execute_result"
    }
   ],
   "source": [
    "messages_sent.duplicated().sum()"
   ]
  },
  {
   "cell_type": "code",
   "execution_count": 7,
   "id": "3a372129",
   "metadata": {},
   "outputs": [
    {
     "data": {
      "text/plain": [
       "0"
      ]
     },
     "execution_count": 7,
     "metadata": {},
     "output_type": "execute_result"
    }
   ],
   "source": [
    "employees_data.duplicated().sum()"
   ]
  },
  {
   "cell_type": "markdown",
   "id": "d32ecff3",
   "metadata": {},
   "source": [
    "**Exploring further on duplicated values**"
   ]
  },
  {
   "cell_type": "code",
   "execution_count": 8,
   "id": "cf02dcd1",
   "metadata": {},
   "outputs": [
    {
     "data": {
      "text/html": [
       "<div>\n",
       "<style scoped>\n",
       "    .dataframe tbody tr th:only-of-type {\n",
       "        vertical-align: middle;\n",
       "    }\n",
       "\n",
       "    .dataframe tbody tr th {\n",
       "        vertical-align: top;\n",
       "    }\n",
       "\n",
       "    .dataframe thead th {\n",
       "        text-align: right;\n",
       "    }\n",
       "</style>\n",
       "<table border=\"1\" class=\"dataframe\">\n",
       "  <thead>\n",
       "    <tr style=\"text-align: right;\">\n",
       "      <th></th>\n",
       "      <th>sender_id</th>\n",
       "      <th>receiver_id</th>\n",
       "      <th>timestamp</th>\n",
       "      <th>message_length</th>\n",
       "    </tr>\n",
       "  </thead>\n",
       "  <tbody>\n",
       "    <tr>\n",
       "      <th>3333</th>\n",
       "      <td>1807</td>\n",
       "      <td>32</td>\n",
       "      <td>2021-10-13 22:25:17</td>\n",
       "      <td>50</td>\n",
       "    </tr>\n",
       "    <tr>\n",
       "      <th>3365</th>\n",
       "      <td>1657</td>\n",
       "      <td>1675</td>\n",
       "      <td>2021-11-02 07:42:25</td>\n",
       "      <td>52</td>\n",
       "    </tr>\n",
       "    <tr>\n",
       "      <th>3377</th>\n",
       "      <td>1881</td>\n",
       "      <td>1676</td>\n",
       "      <td>2021-11-17 06:45:28</td>\n",
       "      <td>27</td>\n",
       "    </tr>\n",
       "    <tr>\n",
       "      <th>3446</th>\n",
       "      <td>1807</td>\n",
       "      <td>32</td>\n",
       "      <td>2021-10-13 22:25:17</td>\n",
       "      <td>50</td>\n",
       "    </tr>\n",
       "    <tr>\n",
       "      <th>3478</th>\n",
       "      <td>1657</td>\n",
       "      <td>1675</td>\n",
       "      <td>2021-11-02 07:42:25</td>\n",
       "      <td>52</td>\n",
       "    </tr>\n",
       "    <tr>\n",
       "      <th>3490</th>\n",
       "      <td>1881</td>\n",
       "      <td>1676</td>\n",
       "      <td>2021-11-17 06:45:28</td>\n",
       "      <td>27</td>\n",
       "    </tr>\n",
       "  </tbody>\n",
       "</table>\n",
       "</div>"
      ],
      "text/plain": [
       "      sender_id  receiver_id           timestamp  message_length\n",
       "3333       1807           32 2021-10-13 22:25:17              50\n",
       "3365       1657         1675 2021-11-02 07:42:25              52\n",
       "3377       1881         1676 2021-11-17 06:45:28              27\n",
       "3446       1807           32 2021-10-13 22:25:17              50\n",
       "3478       1657         1675 2021-11-02 07:42:25              52\n",
       "3490       1881         1676 2021-11-17 06:45:28              27"
      ]
     },
     "execution_count": 8,
     "metadata": {},
     "output_type": "execute_result"
    }
   ],
   "source": [
    "# Subset duplicated values\n",
    "duplicate_values = messages_sent.duplicated(keep = False)\n",
    "messages_sent[duplicate_values]"
   ]
  },
  {
   "cell_type": "markdown",
   "id": "50febf86",
   "metadata": {},
   "source": [
    "From all indications, the values are duplicated and thus will be dropped. \n",
    "\n",
    "This decision was taken because a particular sender (sender_id) cannot send the same exact message with the same message length, at the same date and same exact timestamp, to the same receiver (receiver_id). In real time, there must have been a difference in the time in seconds."
   ]
  },
  {
   "cell_type": "code",
   "execution_count": 9,
   "id": "9eaab973",
   "metadata": {},
   "outputs": [],
   "source": [
    "# Drop duplicates\n",
    "messages_sent = messages_sent.drop_duplicates()"
   ]
  },
  {
   "cell_type": "code",
   "execution_count": 10,
   "id": "b766e666",
   "metadata": {},
   "outputs": [
    {
     "data": {
      "text/plain": [
       "0"
      ]
     },
     "execution_count": 10,
     "metadata": {},
     "output_type": "execute_result"
    }
   ],
   "source": [
    "# check\n",
    "messages_sent.duplicated().sum()"
   ]
  },
  {
   "cell_type": "markdown",
   "id": "e21dcd25",
   "metadata": {},
   "source": [
    "### Merging Datasets\n",
    "The `messages_sent` and `employee_data` will be merged using the `sender_id`, `receiver_id` and `id`. In order to achieve a successful merge, the dataframe's must have a common key, in this case, sender_id, receiver_id and id.\n",
    "\n",
    "The merge will use a `left join` as this will filter all the messages sent by each employee using the sender_id, including their details and receiver_id too."
   ]
  },
  {
   "cell_type": "code",
   "execution_count": 11,
   "id": "34cc8161",
   "metadata": {},
   "outputs": [],
   "source": [
    "# Merging data frames using 'left join' on 'sender_id' and 'id'\n",
    "df_x = pd.merge(messages_sent, employees_data, how = 'left', left_on = 'sender_id', right_on = 'id')\n",
    "\n",
    "# Merging data frames using 'left join' on 'receiver_id' and 'id'\n",
    "df = pd.merge(df_x, employees_data, how = 'left', left_on = 'receiver_id', right_on = 'id')"
   ]
  },
  {
   "cell_type": "code",
   "execution_count": 13,
   "id": "6969dc6e",
   "metadata": {},
   "outputs": [
    {
     "name": "stdout",
     "output_type": "stream",
     "text": [
      "Null values summary:\n",
      " sender_id         0\n",
      "receiver_id       0\n",
      "timestamp         0\n",
      "message_length    0\n",
      "id_x              0\n",
      "department_x      0\n",
      "location_x        0\n",
      "age_x             0\n",
      "id_y              0\n",
      "department_y      0\n",
      "location_y        0\n",
      "age_y             0\n",
      "dtype: int64\n",
      "\n",
      "\n",
      "There are 0 duplicated values\n",
      "\n",
      "\n"
     ]
    }
   ],
   "source": [
    "# Check for null values\n",
    "print('Null values summary:\\n',df.isnull().sum())\n",
    "\n",
    "# Check for duplicated values\n",
    "print('\\n\\nThere are {} duplicated values\\n\\n'.format(df.duplicated().sum()))"
   ]
  },
  {
   "cell_type": "code",
   "execution_count": 14,
   "id": "905a78a6",
   "metadata": {},
   "outputs": [
    {
     "data": {
      "text/html": [
       "<div>\n",
       "<style scoped>\n",
       "    .dataframe tbody tr th:only-of-type {\n",
       "        vertical-align: middle;\n",
       "    }\n",
       "\n",
       "    .dataframe tbody tr th {\n",
       "        vertical-align: top;\n",
       "    }\n",
       "\n",
       "    .dataframe thead th {\n",
       "        text-align: right;\n",
       "    }\n",
       "</style>\n",
       "<table border=\"1\" class=\"dataframe\">\n",
       "  <thead>\n",
       "    <tr style=\"text-align: right;\">\n",
       "      <th></th>\n",
       "      <th>sender_id</th>\n",
       "      <th>receiver_id</th>\n",
       "      <th>timestamp</th>\n",
       "      <th>message_length</th>\n",
       "      <th>id_x</th>\n",
       "      <th>department_x</th>\n",
       "      <th>location_x</th>\n",
       "      <th>age_x</th>\n",
       "      <th>id_y</th>\n",
       "      <th>department_y</th>\n",
       "      <th>location_y</th>\n",
       "      <th>age_y</th>\n",
       "    </tr>\n",
       "  </thead>\n",
       "  <tbody>\n",
       "    <tr>\n",
       "      <th>0</th>\n",
       "      <td>79</td>\n",
       "      <td>48</td>\n",
       "      <td>2021-06-02 05:41:34</td>\n",
       "      <td>88</td>\n",
       "      <td>79</td>\n",
       "      <td>Sales</td>\n",
       "      <td>France</td>\n",
       "      <td>33</td>\n",
       "      <td>48</td>\n",
       "      <td>IT</td>\n",
       "      <td>France</td>\n",
       "      <td>34</td>\n",
       "    </tr>\n",
       "    <tr>\n",
       "      <th>1</th>\n",
       "      <td>79</td>\n",
       "      <td>63</td>\n",
       "      <td>2021-06-02 05:42:15</td>\n",
       "      <td>72</td>\n",
       "      <td>79</td>\n",
       "      <td>Sales</td>\n",
       "      <td>France</td>\n",
       "      <td>33</td>\n",
       "      <td>63</td>\n",
       "      <td>Sales</td>\n",
       "      <td>France</td>\n",
       "      <td>38</td>\n",
       "    </tr>\n",
       "    <tr>\n",
       "      <th>2</th>\n",
       "      <td>79</td>\n",
       "      <td>58</td>\n",
       "      <td>2021-06-02 05:44:24</td>\n",
       "      <td>86</td>\n",
       "      <td>79</td>\n",
       "      <td>Sales</td>\n",
       "      <td>France</td>\n",
       "      <td>33</td>\n",
       "      <td>58</td>\n",
       "      <td>Sales</td>\n",
       "      <td>Germany</td>\n",
       "      <td>40</td>\n",
       "    </tr>\n",
       "    <tr>\n",
       "      <th>3</th>\n",
       "      <td>79</td>\n",
       "      <td>70</td>\n",
       "      <td>2021-06-02 05:49:07</td>\n",
       "      <td>26</td>\n",
       "      <td>79</td>\n",
       "      <td>Sales</td>\n",
       "      <td>France</td>\n",
       "      <td>33</td>\n",
       "      <td>70</td>\n",
       "      <td>Operations</td>\n",
       "      <td>France</td>\n",
       "      <td>47</td>\n",
       "    </tr>\n",
       "    <tr>\n",
       "      <th>4</th>\n",
       "      <td>79</td>\n",
       "      <td>109</td>\n",
       "      <td>2021-06-02 19:51:47</td>\n",
       "      <td>73</td>\n",
       "      <td>79</td>\n",
       "      <td>Sales</td>\n",
       "      <td>France</td>\n",
       "      <td>33</td>\n",
       "      <td>109</td>\n",
       "      <td>Marketing</td>\n",
       "      <td>Brasil</td>\n",
       "      <td>32</td>\n",
       "    </tr>\n",
       "  </tbody>\n",
       "</table>\n",
       "</div>"
      ],
      "text/plain": [
       "   sender_id  receiver_id           timestamp  message_length  id_x  \\\n",
       "0         79           48 2021-06-02 05:41:34              88    79   \n",
       "1         79           63 2021-06-02 05:42:15              72    79   \n",
       "2         79           58 2021-06-02 05:44:24              86    79   \n",
       "3         79           70 2021-06-02 05:49:07              26    79   \n",
       "4         79          109 2021-06-02 19:51:47              73    79   \n",
       "\n",
       "  department_x location_x  age_x  id_y department_y location_y  age_y  \n",
       "0        Sales     France     33    48           IT     France     34  \n",
       "1        Sales     France     33    63        Sales     France     38  \n",
       "2        Sales     France     33    58        Sales    Germany     40  \n",
       "3        Sales     France     33    70   Operations     France     47  \n",
       "4        Sales     France     33   109    Marketing     Brasil     32  "
      ]
     },
     "execution_count": 14,
     "metadata": {},
     "output_type": "execute_result"
    }
   ],
   "source": [
    "# First five rows of merged data frame\n",
    "df.head(5)"
   ]
  },
  {
   "cell_type": "markdown",
   "id": "8facc493",
   "metadata": {},
   "source": [
    "**The following modifications will be made to make the dataframe suitable for our analysis:**\n",
    "- department_x and department_y will be renamed to sender_department and receiver_department respectively\n",
    "- location_x and location_y will be renamed to sender_location and receiver_location respectively\n",
    "- age_x and age_y will be renamed to sender_age and receiver_age respectively\n",
    "- A new column `month` will be created from the timestamp so the trend of messages sent and received by each department can be visualized"
   ]
  },
  {
   "cell_type": "code",
   "execution_count": 15,
   "id": "d12a4150",
   "metadata": {},
   "outputs": [
    {
     "data": {
      "text/html": [
       "<div>\n",
       "<style scoped>\n",
       "    .dataframe tbody tr th:only-of-type {\n",
       "        vertical-align: middle;\n",
       "    }\n",
       "\n",
       "    .dataframe tbody tr th {\n",
       "        vertical-align: top;\n",
       "    }\n",
       "\n",
       "    .dataframe thead th {\n",
       "        text-align: right;\n",
       "    }\n",
       "</style>\n",
       "<table border=\"1\" class=\"dataframe\">\n",
       "  <thead>\n",
       "    <tr style=\"text-align: right;\">\n",
       "      <th></th>\n",
       "      <th>sender_id</th>\n",
       "      <th>receiver_id</th>\n",
       "      <th>timestamp</th>\n",
       "      <th>message_length</th>\n",
       "      <th>id_x</th>\n",
       "      <th>sender_department</th>\n",
       "      <th>sender_location</th>\n",
       "      <th>sender_age</th>\n",
       "      <th>id_y</th>\n",
       "      <th>receiver_department</th>\n",
       "      <th>receiver_location</th>\n",
       "      <th>receiver_age</th>\n",
       "      <th>month</th>\n",
       "    </tr>\n",
       "  </thead>\n",
       "  <tbody>\n",
       "    <tr>\n",
       "      <th>0</th>\n",
       "      <td>79</td>\n",
       "      <td>48</td>\n",
       "      <td>2021-06-02 05:41:34</td>\n",
       "      <td>88</td>\n",
       "      <td>79</td>\n",
       "      <td>Sales</td>\n",
       "      <td>France</td>\n",
       "      <td>33</td>\n",
       "      <td>48</td>\n",
       "      <td>IT</td>\n",
       "      <td>France</td>\n",
       "      <td>34</td>\n",
       "      <td>6</td>\n",
       "    </tr>\n",
       "    <tr>\n",
       "      <th>1</th>\n",
       "      <td>79</td>\n",
       "      <td>63</td>\n",
       "      <td>2021-06-02 05:42:15</td>\n",
       "      <td>72</td>\n",
       "      <td>79</td>\n",
       "      <td>Sales</td>\n",
       "      <td>France</td>\n",
       "      <td>33</td>\n",
       "      <td>63</td>\n",
       "      <td>Sales</td>\n",
       "      <td>France</td>\n",
       "      <td>38</td>\n",
       "      <td>6</td>\n",
       "    </tr>\n",
       "    <tr>\n",
       "      <th>2</th>\n",
       "      <td>79</td>\n",
       "      <td>58</td>\n",
       "      <td>2021-06-02 05:44:24</td>\n",
       "      <td>86</td>\n",
       "      <td>79</td>\n",
       "      <td>Sales</td>\n",
       "      <td>France</td>\n",
       "      <td>33</td>\n",
       "      <td>58</td>\n",
       "      <td>Sales</td>\n",
       "      <td>Germany</td>\n",
       "      <td>40</td>\n",
       "      <td>6</td>\n",
       "    </tr>\n",
       "    <tr>\n",
       "      <th>3</th>\n",
       "      <td>79</td>\n",
       "      <td>70</td>\n",
       "      <td>2021-06-02 05:49:07</td>\n",
       "      <td>26</td>\n",
       "      <td>79</td>\n",
       "      <td>Sales</td>\n",
       "      <td>France</td>\n",
       "      <td>33</td>\n",
       "      <td>70</td>\n",
       "      <td>Operations</td>\n",
       "      <td>France</td>\n",
       "      <td>47</td>\n",
       "      <td>6</td>\n",
       "    </tr>\n",
       "    <tr>\n",
       "      <th>4</th>\n",
       "      <td>79</td>\n",
       "      <td>109</td>\n",
       "      <td>2021-06-02 19:51:47</td>\n",
       "      <td>73</td>\n",
       "      <td>79</td>\n",
       "      <td>Sales</td>\n",
       "      <td>France</td>\n",
       "      <td>33</td>\n",
       "      <td>109</td>\n",
       "      <td>Marketing</td>\n",
       "      <td>Brasil</td>\n",
       "      <td>32</td>\n",
       "      <td>6</td>\n",
       "    </tr>\n",
       "  </tbody>\n",
       "</table>\n",
       "</div>"
      ],
      "text/plain": [
       "   sender_id  receiver_id           timestamp  message_length  id_x  \\\n",
       "0         79           48 2021-06-02 05:41:34              88    79   \n",
       "1         79           63 2021-06-02 05:42:15              72    79   \n",
       "2         79           58 2021-06-02 05:44:24              86    79   \n",
       "3         79           70 2021-06-02 05:49:07              26    79   \n",
       "4         79          109 2021-06-02 19:51:47              73    79   \n",
       "\n",
       "  sender_department sender_location  sender_age  id_y receiver_department  \\\n",
       "0             Sales          France          33    48                  IT   \n",
       "1             Sales          France          33    63               Sales   \n",
       "2             Sales          France          33    58               Sales   \n",
       "3             Sales          France          33    70          Operations   \n",
       "4             Sales          France          33   109           Marketing   \n",
       "\n",
       "  receiver_location  receiver_age  month  \n",
       "0            France            34      6  \n",
       "1            France            38      6  \n",
       "2           Germany            40      6  \n",
       "3            France            47      6  \n",
       "4            Brasil            32      6  "
      ]
     },
     "execution_count": 15,
     "metadata": {},
     "output_type": "execute_result"
    }
   ],
   "source": [
    "# Renaming dataframe columns:\n",
    "df.rename(columns = {'department_x':'sender_department', 'department_y':'receiver_department', 'location_x':'sender_location', \n",
    "                     'location_y':'receiver_location', 'age_x':'sender_age', 'age_y':'receiver_age'}, inplace = True)\n",
    "\n",
    "# Extract the month form the timestamp\n",
    "df['month'] = df['timestamp'].dt.month\n",
    "\n",
    "# First 2 rows of the new data frame\n",
    "df.head(5)"
   ]
  },
  {
   "cell_type": "markdown",
   "id": "8f190811",
   "metadata": {},
   "source": [
    "The final dataframe obtained contains detailed information needed for our analysis. From the dataframe, details about the sender and receiver (id, department, location, and age) can easily be obtained.\n",
    "\n",
    "The final dataframe will be saved as a master data. This is to have easy access to the data used for the analysis and avoid repeating the process before hand.\n"
   ]
  },
  {
   "cell_type": "code",
   "execution_count": 16,
   "id": "4d9e711a",
   "metadata": {},
   "outputs": [],
   "source": [
    "# Saving final data set\n",
    "df.to_csv('data/master_data_set_emp_net.csv', index = False)"
   ]
  },
  {
   "cell_type": "markdown",
   "id": "96207ce1",
   "metadata": {},
   "source": [
    "### Exploratory Data Analysis\n",
    "\n",
    "In this section, we will make use of the already prepared `master_data_set` as it contains all information needed to derive insights and make decisions."
   ]
  },
  {
   "cell_type": "code",
   "execution_count": 17,
   "id": "8148101e",
   "metadata": {},
   "outputs": [],
   "source": [
    "# Loading master data set\n",
    "df = pd.read_csv('data/master_data_set_emp_net.csv', parse_dates = ['timestamp'])"
   ]
  },
  {
   "cell_type": "markdown",
   "id": "1eadeea2",
   "metadata": {},
   "source": [
    "### Descriptive Statistics"
   ]
  },
  {
   "cell_type": "code",
   "execution_count": 18,
   "id": "ec3c3fb8",
   "metadata": {},
   "outputs": [
    {
     "data": {
      "text/html": [
       "<div>\n",
       "<style scoped>\n",
       "    .dataframe tbody tr th:only-of-type {\n",
       "        vertical-align: middle;\n",
       "    }\n",
       "\n",
       "    .dataframe tbody tr th {\n",
       "        vertical-align: top;\n",
       "    }\n",
       "\n",
       "    .dataframe thead th {\n",
       "        text-align: right;\n",
       "    }\n",
       "</style>\n",
       "<table border=\"1\" class=\"dataframe\">\n",
       "  <thead>\n",
       "    <tr style=\"text-align: right;\">\n",
       "      <th></th>\n",
       "      <th>message_length</th>\n",
       "      <th>sender_age</th>\n",
       "      <th>receiver_age</th>\n",
       "    </tr>\n",
       "  </thead>\n",
       "  <tbody>\n",
       "    <tr>\n",
       "      <th>count</th>\n",
       "      <td>3509.000000</td>\n",
       "      <td>3509.000000</td>\n",
       "      <td>3509.000000</td>\n",
       "    </tr>\n",
       "    <tr>\n",
       "      <th>mean</th>\n",
       "      <td>48.455400</td>\n",
       "      <td>38.943574</td>\n",
       "      <td>41.065546</td>\n",
       "    </tr>\n",
       "    <tr>\n",
       "      <th>std</th>\n",
       "      <td>22.864271</td>\n",
       "      <td>8.340714</td>\n",
       "      <td>10.398350</td>\n",
       "    </tr>\n",
       "    <tr>\n",
       "      <th>min</th>\n",
       "      <td>10.000000</td>\n",
       "      <td>23.000000</td>\n",
       "      <td>22.000000</td>\n",
       "    </tr>\n",
       "    <tr>\n",
       "      <th>25%</th>\n",
       "      <td>29.000000</td>\n",
       "      <td>31.000000</td>\n",
       "      <td>33.000000</td>\n",
       "    </tr>\n",
       "    <tr>\n",
       "      <th>50%</th>\n",
       "      <td>49.000000</td>\n",
       "      <td>38.000000</td>\n",
       "      <td>41.000000</td>\n",
       "    </tr>\n",
       "    <tr>\n",
       "      <th>75%</th>\n",
       "      <td>68.000000</td>\n",
       "      <td>47.000000</td>\n",
       "      <td>50.000000</td>\n",
       "    </tr>\n",
       "    <tr>\n",
       "      <th>max</th>\n",
       "      <td>88.000000</td>\n",
       "      <td>59.000000</td>\n",
       "      <td>59.000000</td>\n",
       "    </tr>\n",
       "  </tbody>\n",
       "</table>\n",
       "</div>"
      ],
      "text/plain": [
       "       message_length   sender_age  receiver_age\n",
       "count     3509.000000  3509.000000   3509.000000\n",
       "mean        48.455400    38.943574     41.065546\n",
       "std         22.864271     8.340714     10.398350\n",
       "min         10.000000    23.000000     22.000000\n",
       "25%         29.000000    31.000000     33.000000\n",
       "50%         49.000000    38.000000     41.000000\n",
       "75%         68.000000    47.000000     50.000000\n",
       "max         88.000000    59.000000     59.000000"
      ]
     },
     "execution_count": 18,
     "metadata": {},
     "output_type": "execute_result"
    }
   ],
   "source": [
    "describe_df = df[['message_length', 'sender_age', 'receiver_age']]\n",
    "describe_df.describe()"
   ]
  },
  {
   "cell_type": "code",
   "execution_count": null,
   "id": "de2d2a40",
   "metadata": {},
   "outputs": [],
   "source": []
  },
  {
   "cell_type": "code",
   "execution_count": null,
   "id": "510d3027",
   "metadata": {},
   "outputs": [],
   "source": []
  },
  {
   "cell_type": "code",
   "execution_count": null,
   "id": "f5bf6a6c",
   "metadata": {},
   "outputs": [],
   "source": []
  },
  {
   "cell_type": "code",
   "execution_count": null,
   "id": "80d5b059",
   "metadata": {},
   "outputs": [],
   "source": []
  },
  {
   "cell_type": "code",
   "execution_count": 21,
   "id": "4e7b9b0c",
   "metadata": {},
   "outputs": [
    {
     "data": {
      "text/plain": [
       "194"
      ]
     },
     "execution_count": 21,
     "metadata": {},
     "output_type": "execute_result"
    }
   ],
   "source": [
    "int(100 * 1.1**7)"
   ]
  },
  {
   "cell_type": "code",
   "execution_count": 22,
   "id": "41a52aba",
   "metadata": {},
   "outputs": [],
   "source": [
    "# Definition of pi_string\n",
    "pi_string = \"3.1415926\"\n",
    "\n",
    "# Convert pi_string into float: pi_float\n",
    "pi_float = float(pi_string)"
   ]
  },
  {
   "cell_type": "code",
   "execution_count": 23,
   "id": "01175b5e",
   "metadata": {},
   "outputs": [
    {
     "data": {
      "text/plain": [
       "3.1415926"
      ]
     },
     "execution_count": 23,
     "metadata": {},
     "output_type": "execute_result"
    }
   ],
   "source": [
    "pi_float"
   ]
  },
  {
   "cell_type": "code",
   "execution_count": 24,
   "id": "fe3f9f1d",
   "metadata": {},
   "outputs": [
    {
     "data": {
      "text/plain": [
       "1"
      ]
     },
     "execution_count": 24,
     "metadata": {},
     "output_type": "execute_result"
    }
   ],
   "source": [
    "True + False"
   ]
  },
  {
   "cell_type": "code",
   "execution_count": 26,
   "id": "917ca979",
   "metadata": {},
   "outputs": [
    {
     "data": {
      "text/plain": [
       "'I said Hey Hey Hey!'"
      ]
     },
     "execution_count": 26,
     "metadata": {},
     "output_type": "execute_result"
    }
   ],
   "source": [
    "\"I said \" + (\"Hey \" * 2) + \"Hey!\""
   ]
  },
  {
   "cell_type": "code",
   "execution_count": null,
   "id": "fcd990bd",
   "metadata": {},
   "outputs": [],
   "source": []
  }
 ],
 "metadata": {
  "kernelspec": {
   "display_name": "Python 3 (ipykernel)",
   "language": "python",
   "name": "python3"
  },
  "language_info": {
   "codemirror_mode": {
    "name": "ipython",
    "version": 3
   },
   "file_extension": ".py",
   "mimetype": "text/x-python",
   "name": "python",
   "nbconvert_exporter": "python",
   "pygments_lexer": "ipython3",
   "version": "3.9.12"
  }
 },
 "nbformat": 4,
 "nbformat_minor": 5
}
